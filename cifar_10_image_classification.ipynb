{
  "nbformat": 4,
  "nbformat_minor": 0,
  "metadata": {
    "colab": {
      "name": "cifar 10 image classification.ipynb",
      "provenance": [],
      "authorship_tag": "ABX9TyNaBV9/zEMu1XqqJkQJZZlI",
      "include_colab_link": true
    },
    "kernelspec": {
      "name": "python3",
      "display_name": "Python 3"
    },
    "language_info": {
      "name": "python"
    },
    "accelerator": "GPU"
  },
  "cells": [
    {
      "cell_type": "markdown",
      "metadata": {
        "id": "view-in-github",
        "colab_type": "text"
      },
      "source": [
        "<a href=\"https://colab.research.google.com/github/DawoodBhai420/Small-Image-Classification-Using-CNN/blob/main/cifar_10_image_classification.ipynb\" target=\"_parent\"><img src=\"https://colab.research.google.com/assets/colab-badge.svg\" alt=\"Open In Colab\"/></a>"
      ]
    },
    {
      "cell_type": "code",
      "execution_count": null,
      "metadata": {
        "id": "dtthgCGJ2159"
      },
      "outputs": [],
      "source": [
        "import tensorflow as tf\n",
        "from tensorflow import keras\n",
        "import matplotlib.pyplot as plt\n",
        "import numpy as np"
      ]
    },
    {
      "cell_type": "code",
      "source": [
        "(X_train, y_train), (X_test,y_test) = keras.datasets.cifar10.load_data()"
      ],
      "metadata": {
        "colab": {
          "base_uri": "https://localhost:8080/"
        },
        "id": "JTTojIuz3I4i",
        "outputId": "96a1eb5c-1417-4415-ab2a-18548e0cd7a1"
      },
      "execution_count": null,
      "outputs": [
        {
          "output_type": "stream",
          "name": "stdout",
          "text": [
            "Downloading data from https://www.cs.toronto.edu/~kriz/cifar-10-python.tar.gz\n",
            "170500096/170498071 [==============================] - 11s 0us/step\n",
            "170508288/170498071 [==============================] - 11s 0us/step\n"
          ]
        }
      ]
    },
    {
      "cell_type": "code",
      "source": [
        "print(X_train.shape)\n",
        "print(y_train.shape)"
      ],
      "metadata": {
        "colab": {
          "base_uri": "https://localhost:8080/"
        },
        "id": "dgELdBob3YBU",
        "outputId": "e2c9aa5d-a4b1-4456-fc32-d1b610ed8b4b"
      },
      "execution_count": null,
      "outputs": [
        {
          "output_type": "stream",
          "name": "stdout",
          "text": [
            "(50000, 32, 32, 3)\n",
            "(50000, 1)\n"
          ]
        }
      ]
    },
    {
      "cell_type": "code",
      "source": [
        "y_train[:5]\n",
        "y_test[:5]"
      ],
      "metadata": {
        "colab": {
          "base_uri": "https://localhost:8080/"
        },
        "id": "FkkB7Ji93hb5",
        "outputId": "0c1e67a5-e6e8-4a00-c1ad-726ed8aee51c"
      },
      "execution_count": null,
      "outputs": [
        {
          "output_type": "execute_result",
          "data": {
            "text/plain": [
              "array([[3],\n",
              "       [8],\n",
              "       [8],\n",
              "       [0],\n",
              "       [6]], dtype=uint8)"
            ]
          },
          "metadata": {},
          "execution_count": 4
        }
      ]
    },
    {
      "cell_type": "code",
      "source": [
        "y_train = y_train.reshape(-1)\n",
        "y_test = y_test.reshape(-1)"
      ],
      "metadata": {
        "id": "KNSXyDXZ4HFF"
      },
      "execution_count": null,
      "outputs": []
    },
    {
      "cell_type": "code",
      "source": [
        "y_train[:5]"
      ],
      "metadata": {
        "colab": {
          "base_uri": "https://localhost:8080/"
        },
        "id": "K5eXF13u4TGL",
        "outputId": "57562e03-e9eb-4a63-be94-962783bc41c7"
      },
      "execution_count": null,
      "outputs": [
        {
          "output_type": "execute_result",
          "data": {
            "text/plain": [
              "array([6, 9, 9, 4, 1], dtype=uint8)"
            ]
          },
          "metadata": {},
          "execution_count": 6
        }
      ]
    },
    {
      "cell_type": "code",
      "source": [
        "classes = [\"airplane\",\"automobile\",\"bird\",\"cat\",\"deer\",\"dog\",\"frog\",\"horse\",\"ship\",\"truck\"]"
      ],
      "metadata": {
        "id": "fJ_mUES24VT3"
      },
      "execution_count": null,
      "outputs": []
    },
    {
      "cell_type": "code",
      "source": [
        "def plot_image(X, y, index):\n",
        "  plt.imshow(X[index])\n",
        "  print(classes[y[index]])"
      ],
      "metadata": {
        "id": "BzZ6bFbG4cWQ"
      },
      "execution_count": null,
      "outputs": []
    },
    {
      "cell_type": "code",
      "source": [
        "plot_image(X_train, y_train, 29635)"
      ],
      "metadata": {
        "colab": {
          "base_uri": "https://localhost:8080/",
          "height": 283
        },
        "id": "S8icUDCF40Ix",
        "outputId": "0898ffbe-0fb3-4325-cda2-43392949a630"
      },
      "execution_count": null,
      "outputs": [
        {
          "output_type": "stream",
          "name": "stdout",
          "text": [
            "deer\n"
          ]
        },
        {
          "output_type": "display_data",
          "data": {
            "image/png": "[encoded data removed]",
            "text/plain": [
              "<Figure size 432x288 with 1 Axes>"
            ]
          },
          "metadata": {
            "needs_background": "light"
          }
        }
      ]
    },
    {
      "cell_type": "code",
      "source": [
        "X_train = X_train/255\n",
        "X_test = X_test/255"
      ],
      "metadata": {
        "id": "V2I89EMe45_S"
      },
      "execution_count": null,
      "outputs": []
    },
    {
      "cell_type": "code",
      "source": [
        "model = keras.models.Sequential([\n",
        "                                 keras.layers.Conv2D(16, (3,3), activation='relu', input_shape=(32,32,3)),\n",
        "                                 keras.layers.MaxPooling2D(2,2),\n",
        "                                 keras.layers.Conv2D(32, (3,3), activation='relu'),\n",
        "                                 keras.layers.MaxPooling2D(2,2),\n",
        "                                 keras.layers.Conv2D(64, (3,3), activation='relu'),\n",
        "                                 keras.layers.MaxPooling2D(2,2),\n",
        "                                 keras.layers.Flatten(),\n",
        "                                 keras.layers.Dense(512, activation='relu'),\n",
        "                                 keras.layers.Dense(10, activation='softmax')\n",
        "])\n",
        "model.compile(optimizer=keras.optimizers.RMSprop(),\n",
        "              loss='sparse_categorical_crossentropy',\n",
        "              metrics=['accuracy'])"
      ],
      "metadata": {
        "id": "_qwgV0AU5aam"
      },
      "execution_count": null,
      "outputs": []
    },
    {
      "cell_type": "code",
      "source": [
        "model.summary()"
      ],
      "metadata": {
        "colab": {
          "base_uri": "https://localhost:8080/"
        },
        "id": "8ZI6ejDE6sRf",
        "outputId": "05941bfb-604a-4831-fcbf-ce67d28b1bd6"
      },
      "execution_count": null,
      "outputs": [
        {
          "output_type": "stream",
          "name": "stdout",
          "text": [
            "Model: \"sequential_2\"\n",
            "_________________________________________________________________\n",
            " Layer (type)                Output Shape              Param #   \n",
            "=================================================================\n",
            " conv2d_6 (Conv2D)           (None, 30, 30, 16)        448       \n",
            "                                                                 \n",
            " max_pooling2d_4 (MaxPooling  (None, 15, 15, 16)       0         \n",
            " 2D)                                                             \n",
            "                                                                 \n",
            " conv2d_7 (Conv2D)           (None, 13, 13, 32)        4640      \n",
            "                                                                 \n",
            " max_pooling2d_5 (MaxPooling  (None, 6, 6, 32)         0         \n",
            " 2D)                                                             \n",
            "                                                                 \n",
            " conv2d_8 (Conv2D)           (None, 4, 4, 64)          18496     \n",
            "                                                                 \n",
            " max_pooling2d_6 (MaxPooling  (None, 2, 2, 64)         0         \n",
            " 2D)                                                             \n",
            "                                                                 \n",
            " flatten_2 (Flatten)         (None, 256)               0         \n",
            "                                                                 \n",
            " dense_4 (Dense)             (None, 512)               131584    \n",
            "                                                                 \n",
            " dense_5 (Dense)             (None, 10)                5130      \n",
            "                                                                 \n",
            "=================================================================\n",
            "Total params: 160,298\n",
            "Trainable params: 160,298\n",
            "Non-trainable params: 0\n",
            "_________________________________________________________________\n"
          ]
        }
      ]
    },
    {
      "cell_type": "code",
      "source": [
        "model.fit(X_train, y_train,\n",
        "          epochs=20,\n",
        "          validation_data=(X_test, y_test),\n",
        "          verbose=2)"
      ],
      "metadata": {
        "colab": {
          "base_uri": "https://localhost:8080/"
        },
        "id": "xxalt_h169P4",
        "outputId": "52c59114-398a-4258-9f8d-65baec0e0aae"
      },
      "execution_count": null,
      "outputs": [
        {
          "output_type": "stream",
          "name": "stdout",
          "text": [
            "Epoch 1/20\n",
            "1563/1563 - 19s - loss: 1.5114 - accuracy: 0.4564 - val_loss: 1.3311 - val_accuracy: 0.5356 - 19s/epoch - 12ms/step\n",
            "Epoch 2/20\n",
            "1563/1563 - 10s - loss: 1.1318 - accuracy: 0.6031 - val_loss: 1.1920 - val_accuracy: 0.5994 - 10s/epoch - 6ms/step\n",
            "Epoch 3/20\n",
            "1563/1563 - 10s - loss: 0.9686 - accuracy: 0.6633 - val_loss: 0.9726 - val_accuracy: 0.6635 - 10s/epoch - 6ms/step\n",
            "Epoch 4/20\n",
            "1563/1563 - 10s - loss: 0.8607 - accuracy: 0.7036 - val_loss: 1.1400 - val_accuracy: 0.6400 - 10s/epoch - 6ms/step\n",
            "Epoch 5/20\n",
            "1563/1563 - 9s - loss: 0.7895 - accuracy: 0.7304 - val_loss: 0.9452 - val_accuracy: 0.6826 - 9s/epoch - 6ms/step\n",
            "Epoch 6/20\n",
            "1563/1563 - 10s - loss: 0.7391 - accuracy: 0.7505 - val_loss: 1.0974 - val_accuracy: 0.6293 - 10s/epoch - 6ms/step\n",
            "Epoch 7/20\n",
            "1563/1563 - 9s - loss: 0.7081 - accuracy: 0.7621 - val_loss: 1.0235 - val_accuracy: 0.6685 - 9s/epoch - 6ms/step\n",
            "Epoch 8/20\n",
            "1563/1563 - 10s - loss: 0.6774 - accuracy: 0.7727 - val_loss: 1.1304 - val_accuracy: 0.6931 - 10s/epoch - 6ms/step\n",
            "Epoch 9/20\n",
            "1563/1563 - 9s - loss: 0.6662 - accuracy: 0.7769 - val_loss: 1.0864 - val_accuracy: 0.6771 - 9s/epoch - 6ms/step\n",
            "Epoch 10/20\n",
            "1563/1563 - 9s - loss: 0.6511 - accuracy: 0.7834 - val_loss: 1.4445 - val_accuracy: 0.6569 - 9s/epoch - 6ms/step\n",
            "Epoch 11/20\n",
            "1563/1563 - 9s - loss: 0.6453 - accuracy: 0.7861 - val_loss: 1.2239 - val_accuracy: 0.6603 - 9s/epoch - 6ms/step\n",
            "Epoch 12/20\n",
            "1563/1563 - 9s - loss: 0.6333 - accuracy: 0.7893 - val_loss: 1.1397 - val_accuracy: 0.6625 - 9s/epoch - 6ms/step\n",
            "Epoch 13/20\n",
            "1563/1563 - 10s - loss: 0.6345 - accuracy: 0.7913 - val_loss: 1.3731 - val_accuracy: 0.6865 - 10s/epoch - 6ms/step\n",
            "Epoch 14/20\n",
            "1563/1563 - 9s - loss: 0.6260 - accuracy: 0.7923 - val_loss: 1.1130 - val_accuracy: 0.6661 - 9s/epoch - 6ms/step\n",
            "Epoch 15/20\n",
            "1563/1563 - 10s - loss: 0.6238 - accuracy: 0.7971 - val_loss: 1.3698 - val_accuracy: 0.6852 - 10s/epoch - 6ms/step\n",
            "Epoch 16/20\n",
            "1563/1563 - 9s - loss: 0.6269 - accuracy: 0.7968 - val_loss: 1.4028 - val_accuracy: 0.6639 - 9s/epoch - 6ms/step\n",
            "Epoch 17/20\n",
            "1563/1563 - 9s - loss: 0.6235 - accuracy: 0.8013 - val_loss: 1.3874 - val_accuracy: 0.6691 - 9s/epoch - 6ms/step\n",
            "Epoch 18/20\n",
            "1563/1563 - 9s - loss: 0.6240 - accuracy: 0.8006 - val_loss: 1.3193 - val_accuracy: 0.6357 - 9s/epoch - 6ms/step\n",
            "Epoch 19/20\n",
            "1563/1563 - 10s - loss: 0.6233 - accuracy: 0.8004 - val_loss: 1.1903 - val_accuracy: 0.6670 - 10s/epoch - 6ms/step\n",
            "Epoch 20/20\n",
            "1563/1563 - 10s - loss: 0.6255 - accuracy: 0.8013 - val_loss: 1.4885 - val_accuracy: 0.6598 - 10s/epoch - 6ms/step\n"
          ]
        },
        {
          "output_type": "execute_result",
          "data": {
            "text/plain": [
              "<keras.callbacks.History at 0x7faf47f0c390>"
            ]
          },
          "metadata": {},
          "execution_count": 18
        }
      ]
    },
    {
      "cell_type": "code",
      "source": [
        "his = model.fit(X_train, y_train,\n",
        "          epochs=20,\n",
        "          validation_data=(X_test, y_test),\n",
        "          verbose=2)"
      ],
      "metadata": {
        "colab": {
          "base_uri": "https://localhost:8080/"
        },
        "id": "g1Qk7ZOG7qNZ",
        "outputId": "746077e9-d786-4778-a995-f14dd33d1814"
      },
      "execution_count": null,
      "outputs": [
        {
          "output_type": "stream",
          "name": "stdout",
          "text": [
            "Epoch 1/20\n",
            "1563/1563 - 10s - loss: 1.5593 - accuracy: 0.4354 - val_loss: 1.3560 - val_accuracy: 0.5019 - 10s/epoch - 7ms/step\n",
            "Epoch 2/20\n",
            "1563/1563 - 10s - loss: 1.1851 - accuracy: 0.5788 - val_loss: 1.1715 - val_accuracy: 0.5935 - 10s/epoch - 6ms/step\n",
            "Epoch 3/20\n",
            "1563/1563 - 10s - loss: 1.0249 - accuracy: 0.6394 - val_loss: 1.0194 - val_accuracy: 0.6505 - 10s/epoch - 6ms/step\n",
            "Epoch 4/20\n",
            "1563/1563 - 9s - loss: 0.9205 - accuracy: 0.6793 - val_loss: 1.0169 - val_accuracy: 0.6540 - 9s/epoch - 6ms/step\n",
            "Epoch 5/20\n",
            "1563/1563 - 10s - loss: 0.8497 - accuracy: 0.7069 - val_loss: 1.0616 - val_accuracy: 0.6446 - 10s/epoch - 6ms/step\n",
            "Epoch 6/20\n",
            "1563/1563 - 10s - loss: 0.7990 - accuracy: 0.7246 - val_loss: 1.0024 - val_accuracy: 0.6663 - 10s/epoch - 6ms/step\n",
            "Epoch 7/20\n",
            "1563/1563 - 10s - loss: 0.7600 - accuracy: 0.7388 - val_loss: 1.0157 - val_accuracy: 0.6725 - 10s/epoch - 6ms/step\n",
            "Epoch 8/20\n",
            "1563/1563 - 9s - loss: 0.7416 - accuracy: 0.7461 - val_loss: 0.9592 - val_accuracy: 0.6770 - 9s/epoch - 6ms/step\n",
            "Epoch 9/20\n",
            "1563/1563 - 9s - loss: 0.7209 - accuracy: 0.7536 - val_loss: 0.9669 - val_accuracy: 0.6825 - 9s/epoch - 6ms/step\n",
            "Epoch 10/20\n",
            "1563/1563 - 10s - loss: 0.7120 - accuracy: 0.7582 - val_loss: 1.1660 - val_accuracy: 0.6517 - 10s/epoch - 6ms/step\n",
            "Epoch 11/20\n",
            "1563/1563 - 10s - loss: 0.7103 - accuracy: 0.7583 - val_loss: 1.1877 - val_accuracy: 0.6481 - 10s/epoch - 6ms/step\n",
            "Epoch 12/20\n",
            "1563/1563 - 9s - loss: 0.7095 - accuracy: 0.7614 - val_loss: 1.0482 - val_accuracy: 0.6833 - 9s/epoch - 6ms/step\n",
            "Epoch 13/20\n",
            "1563/1563 - 9s - loss: 0.7123 - accuracy: 0.7590 - val_loss: 1.0307 - val_accuracy: 0.6621 - 9s/epoch - 6ms/step\n",
            "Epoch 14/20\n",
            "1563/1563 - 10s - loss: 0.7156 - accuracy: 0.7580 - val_loss: 1.3036 - val_accuracy: 0.6571 - 10s/epoch - 6ms/step\n",
            "Epoch 15/20\n",
            "1563/1563 - 10s - loss: 0.7228 - accuracy: 0.7569 - val_loss: 1.2279 - val_accuracy: 0.6615 - 10s/epoch - 6ms/step\n",
            "Epoch 16/20\n",
            "1563/1563 - 9s - loss: 0.7087 - accuracy: 0.7616 - val_loss: 1.2174 - val_accuracy: 0.6824 - 9s/epoch - 6ms/step\n",
            "Epoch 17/20\n",
            "1563/1563 - 9s - loss: 0.7172 - accuracy: 0.7601 - val_loss: 1.1521 - val_accuracy: 0.6618 - 9s/epoch - 6ms/step\n",
            "Epoch 18/20\n",
            "1563/1563 - 10s - loss: 0.7263 - accuracy: 0.7589 - val_loss: 1.3403 - val_accuracy: 0.6190 - 10s/epoch - 6ms/step\n",
            "Epoch 19/20\n",
            "1563/1563 - 9s - loss: 0.7180 - accuracy: 0.7615 - val_loss: 1.4949 - val_accuracy: 0.6350 - 9s/epoch - 6ms/step\n",
            "Epoch 20/20\n",
            "1563/1563 - 9s - loss: 0.7313 - accuracy: 0.7568 - val_loss: 1.2548 - val_accuracy: 0.6654 - 9s/epoch - 6ms/step\n"
          ]
        }
      ]
    },
    {
      "cell_type": "code",
      "source": [
        "acc = his.history['accuracy']\n",
        "val_acc = his.history['val_accuracy']\n",
        "loss = his.history['loss']\n",
        "val_loss = his.history['val_loss']\n",
        "\n",
        "epochs = range(len(acc))\n",
        "plt.plot(epochs, acc, 'r', label='Training accuracy')\n",
        "plt.plot(epochs, val_acc, 'b', label='Validation accuracy')\n",
        "plt.title('Training and validation accuracy')\n",
        "plt.legend(loc=0)\n",
        "plt.figure()\n",
        "plt.show()"
      ],
      "metadata": {
        "colab": {
          "base_uri": "https://localhost:8080/",
          "height": 298
        },
        "id": "g5vraw9684uI",
        "outputId": "2d89629a-28d1-4c7f-80b9-8abc70cd5530"
      },
      "execution_count": null,
      "outputs": [
        {
          "output_type": "display_data",
          "data": {
            "image/png": "[encoded data removed]",
            "text/plain": [
              "<Figure size 432x288 with 1 Axes>"
            ]
          },
          "metadata": {
            "needs_background": "light"
          }
        },
        {
          "output_type": "display_data",
          "data": {
            "text/plain": [
              "<Figure size 432x288 with 0 Axes>"
            ]
          },
          "metadata": {}
        }
      ]
    },
    {
      "cell_type": "code",
      "source": [
        "epochs = range(len(acc))\n",
        "\n",
        "plt.plot(epochs, loss, 'r', label='Training loss')\n",
        "plt.plot(epochs, val_loss, 'b', label='Validation loss')\n",
        "plt.title('Training and validation loss')\n",
        "plt.legend(loc=0)\n",
        "plt.figure()\n",
        "\n",
        "\n",
        "plt.show()"
      ],
      "metadata": {
        "colab": {
          "base_uri": "https://localhost:8080/",
          "height": 298
        },
        "id": "AkFzCWNe-H_9",
        "outputId": "7a32a768-7ce4-4f5b-d74e-4bbb51b39602"
      },
      "execution_count": null,
      "outputs": [
        {
          "output_type": "display_data",
          "data": {
            "image/png": "[encoded data removed]",
            "text/plain": [
              "<Figure size 432x288 with 1 Axes>"
            ]
          },
          "metadata": {
            "needs_background": "light"
          }
        },
        {
          "output_type": "display_data",
          "data": {
            "text/plain": [
              "<Figure size 432x288 with 0 Axes>"
            ]
          },
          "metadata": {}
        }
      ]
    },
    {
      "cell_type": "code",
      "source": [
        ""
      ],
      "metadata": {
        "id": "JQo48RtT-Rjw"
      },
      "execution_count": null,
      "outputs": []
    }
  ]
}