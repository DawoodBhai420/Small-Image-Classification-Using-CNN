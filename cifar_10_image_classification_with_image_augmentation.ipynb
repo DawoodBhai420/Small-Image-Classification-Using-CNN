{
  "nbformat": 4,
  "nbformat_minor": 0,
  "metadata": {
    "colab": {
      "name": "cifar 10 image classification with image augmentation.ipynb",
      "provenance": [],
      "authorship_tag": "ABX9TyO0l45WRKbiK0OAxXgr8tdf",
      "include_colab_link": true
    },
    "kernelspec": {
      "name": "python3",
      "display_name": "Python 3"
    },
    "language_info": {
      "name": "python"
    },
    "accelerator": "GPU"
  },
  "cells": [
    {
      "cell_type": "markdown",
      "metadata": {
        "id": "view-in-github",
        "colab_type": "text"
      },
      "source": [
        "<a href=\"https://colab.research.google.com/github/DawoodBhai420/Small-Image-Classification-Using-CNN/blob/main/cifar_10_image_classification_with_image_augmentation.ipynb\" target=\"_parent\"><img src=\"https://colab.research.google.com/assets/colab-badge.svg\" alt=\"Open In Colab\"/></a>"
      ]
    },
    {
      "cell_type": "code",
      "execution_count": 1,
      "metadata": {
        "id": "Ep1uH7tb-3FA"
      },
      "outputs": [],
      "source": [
        "import tensorflow as tf\n",
        "from tensorflow import keras\n",
        "import matplotlib.pyplot as plt\n",
        "import numpy as np"
      ]
    },
    {
      "cell_type": "code",
      "source": [
        "(X_train, y_train), (X_test,y_test) = keras.datasets.cifar10.load_data()"
      ],
      "metadata": {
        "colab": {
          "base_uri": "https://localhost:8080/"
        },
        "id": "z0kXrivF_YHY",
        "outputId": "0504c7a5-618f-480b-e790-a69a21c8cca6"
      },
      "execution_count": 2,
      "outputs": [
        {
          "output_type": "stream",
          "name": "stdout",
          "text": [
            "Downloading data from https://www.cs.toronto.edu/~kriz/cifar-10-python.tar.gz\n",
            "170500096/170498071 [==============================] - 3s 0us/step\n",
            "170508288/170498071 [==============================] - 3s 0us/step\n"
          ]
        }
      ]
    },
    {
      "cell_type": "code",
      "source": [
        "y_train = y_train.reshape(-1)\n",
        "y_test = y_test.reshape(-1)"
      ],
      "metadata": {
        "id": "29ZdS2n6_axb"
      },
      "execution_count": 3,
      "outputs": []
    },
    {
      "cell_type": "code",
      "source": [
        "classes = [\"airplane\",\"automobile\",\"bird\",\"cat\",\"deer\",\"dog\",\"frog\",\"horse\",\"ship\",\"truck\"]"
      ],
      "metadata": {
        "id": "ReWcTYsG_fMh"
      },
      "execution_count": 4,
      "outputs": []
    },
    {
      "cell_type": "code",
      "source": [
        "def plot_image(X, y, index):\n",
        "  plt.imshow(X[index])\n",
        "  print(y[index])\n",
        "  print(classes[y[index]])"
      ],
      "metadata": {
        "id": "0ZJRpsaU_iJL"
      },
      "execution_count": 9,
      "outputs": []
    },
    {
      "cell_type": "code",
      "source": [
        "plot_image(X_train, y_train, 289)"
      ],
      "metadata": {
        "colab": {
          "base_uri": "https://localhost:8080/",
          "height": 301
        },
        "id": "aCIlvr14_kwO",
        "outputId": "569b736c-b832-4187-e6a7-77f21d28f9d6"
      },
      "execution_count": 12,
      "outputs": [
        {
          "output_type": "stream",
          "name": "stdout",
          "text": [
            "7\n",
            "horse\n"
          ]
        },
        {
          "output_type": "display_data",
          "data": {
            "image/png": "[encoded data removed]",
            "text/plain": [
              "<Figure size 432x288 with 1 Axes>"
            ]
          },
          "metadata": {
            "needs_background": "light"
          }
        }
      ]
    },
    {
      "cell_type": "code",
      "source": [
        "from tensorflow.keras.preprocessing.image import ImageDataGenerator\n",
        "train_datagen = ImageDataGenerator(rescale=1./255,\n",
        "                                   rotation_range=40,\n",
        "                                   width_shift_range=.2,\n",
        "                                   height_shift_range=.2,\n",
        "                                   shear_range=.2,\n",
        "                                   zoom_range=.2,\n",
        "                                   horizontal_flip=True,\n",
        "                                   fill_mode='nearest')\n",
        "train_generator = train_datagen.flow(X_train, y_train)\n",
        "validation_datagen = ImageDataGenerator(rescale=1./255)\n",
        "validation_generator = validation_datagen.flow(X_test, y_test)"
      ],
      "metadata": {
        "id": "RjPg4eRd_rLV"
      },
      "execution_count": 13,
      "outputs": []
    },
    {
      "cell_type": "code",
      "source": [
        "model = keras.models.Sequential([\n",
        "                                 keras.layers.Conv2D(16, (3,3), activation='relu', input_shape=(32,32,3)),\n",
        "                                 keras.layers.MaxPooling2D(2,2),\n",
        "                                 keras.layers.Conv2D(32, (3,3), activation='relu'),\n",
        "                                 keras.layers.MaxPooling2D(2,2),\n",
        "                                 keras.layers.Conv2D(64, (3,3), activation='relu'),\n",
        "                                 keras.layers.MaxPooling2D(2,2),\n",
        "                                 keras.layers.Flatten(),\n",
        "                                 keras.layers.Dense(512, activation='relu'),\n",
        "                                 keras.layers.Dropout(0.2),\n",
        "                                 keras.layers.Dense(10, activation='softmax')\n",
        "])\n",
        "model.compile(optimizer=keras.optimizers.RMSprop(),\n",
        "              loss='sparse_categorical_crossentropy',\n",
        "              metrics=['accuracy'])"
      ],
      "metadata": {
        "id": "xAjl2OtlBCVj"
      },
      "execution_count": 14,
      "outputs": []
    },
    {
      "cell_type": "code",
      "source": [
        "his = model.fit(train_generator,\n",
        "                epochs=20,\n",
        "                validation_data=validation_generator,\n",
        "                verbose=1)"
      ],
      "metadata": {
        "colab": {
          "base_uri": "https://localhost:8080/"
        },
        "id": "CE4fG8khCGfN",
        "outputId": "14450bf0-d0a9-429e-ff1f-d7dc69dfba05"
      },
      "execution_count": 15,
      "outputs": [
        {
          "output_type": "stream",
          "name": "stdout",
          "text": [
            "Epoch 1/20\n",
            "1563/1563 [==============================] - 59s 31ms/step - loss: 1.8534 - accuracy: 0.3168 - val_loss: 1.4455 - val_accuracy: 0.4741\n",
            "Epoch 2/20\n",
            "1563/1563 [==============================] - 48s 31ms/step - loss: 1.6206 - accuracy: 0.4105 - val_loss: 1.4986 - val_accuracy: 0.4797\n",
            "Epoch 3/20\n",
            "1563/1563 [==============================] - 48s 30ms/step - loss: 1.5249 - accuracy: 0.4506 - val_loss: 1.2740 - val_accuracy: 0.5503\n",
            "Epoch 4/20\n",
            "1563/1563 [==============================] - 48s 31ms/step - loss: 1.4645 - accuracy: 0.4761 - val_loss: 1.2973 - val_accuracy: 0.5493\n",
            "Epoch 5/20\n",
            "1563/1563 [==============================] - 48s 30ms/step - loss: 1.4380 - accuracy: 0.4891 - val_loss: 1.4630 - val_accuracy: 0.5114\n",
            "Epoch 6/20\n",
            "1563/1563 [==============================] - 48s 31ms/step - loss: 1.4214 - accuracy: 0.4987 - val_loss: 1.2638 - val_accuracy: 0.5532\n",
            "Epoch 7/20\n",
            "1563/1563 [==============================] - 48s 31ms/step - loss: 1.4207 - accuracy: 0.5015 - val_loss: 1.2027 - val_accuracy: 0.5849\n",
            "Epoch 8/20\n",
            "1563/1563 [==============================] - 48s 30ms/step - loss: 1.4249 - accuracy: 0.4983 - val_loss: 1.2341 - val_accuracy: 0.5549\n",
            "Epoch 9/20\n",
            "1563/1563 [==============================] - 47s 30ms/step - loss: 1.4243 - accuracy: 0.5007 - val_loss: 1.4468 - val_accuracy: 0.5225\n",
            "Epoch 10/20\n",
            "1563/1563 [==============================] - 47s 30ms/step - loss: 1.4350 - accuracy: 0.4966 - val_loss: 1.1658 - val_accuracy: 0.5915\n",
            "Epoch 11/20\n",
            "1563/1563 [==============================] - 47s 30ms/step - loss: 1.4504 - accuracy: 0.4925 - val_loss: 1.1921 - val_accuracy: 0.5871\n",
            "Epoch 12/20\n",
            "1563/1563 [==============================] - 47s 30ms/step - loss: 1.4630 - accuracy: 0.4875 - val_loss: 1.2929 - val_accuracy: 0.5387\n",
            "Epoch 13/20\n",
            "1563/1563 [==============================] - 47s 30ms/step - loss: 1.4639 - accuracy: 0.4891 - val_loss: 1.2889 - val_accuracy: 0.5668\n",
            "Epoch 14/20\n",
            "1563/1563 [==============================] - 47s 30ms/step - loss: 1.4812 - accuracy: 0.4848 - val_loss: 1.2102 - val_accuracy: 0.5889\n",
            "Epoch 15/20\n",
            "1563/1563 [==============================] - 47s 30ms/step - loss: 1.4955 - accuracy: 0.4790 - val_loss: 1.2518 - val_accuracy: 0.5741\n",
            "Epoch 16/20\n",
            "1563/1563 [==============================] - 47s 30ms/step - loss: 1.4978 - accuracy: 0.4803 - val_loss: 1.2828 - val_accuracy: 0.5549\n",
            "Epoch 17/20\n",
            "1563/1563 [==============================] - 47s 30ms/step - loss: 1.5125 - accuracy: 0.4777 - val_loss: 1.2425 - val_accuracy: 0.5764\n",
            "Epoch 18/20\n",
            "1563/1563 [==============================] - 47s 30ms/step - loss: 1.5144 - accuracy: 0.4753 - val_loss: 1.3123 - val_accuracy: 0.5604\n",
            "Epoch 19/20\n",
            "1563/1563 [==============================] - 47s 30ms/step - loss: 1.5192 - accuracy: 0.4733 - val_loss: 1.3877 - val_accuracy: 0.5230\n",
            "Epoch 20/20\n",
            "1563/1563 [==============================] - 47s 30ms/step - loss: 1.5317 - accuracy: 0.4705 - val_loss: 1.1531 - val_accuracy: 0.5970\n"
          ]
        }
      ]
    },
    {
      "cell_type": "code",
      "source": [
        "acc = his.history['accuracy']\n",
        "loss = his.history['loss']\n",
        "val_acc = his.history['val_accuracy']\n",
        "val_loss = his.history['val_loss']\n",
        "\n",
        "epoch = range(len(acc))\n",
        "plt.plot(epoch, acc, 'green', label='Training Accuracy')\n",
        "plt.plot(epoch, val_acc, 'pink', label='validation_accuracy')\n",
        "plt.title('Training and Validation Accuracy')\n",
        "plt.legend(loc=0)\n",
        "plt.figure()\n",
        "plt.show"
      ],
      "metadata": {
        "colab": {
          "base_uri": "https://localhost:8080/",
          "height": 316
        },
        "id": "BwhFqVTLCl6v",
        "outputId": "3196d8c3-3135-449f-e1f5-262bd75fdea4"
      },
      "execution_count": 16,
      "outputs": [
        {
          "output_type": "execute_result",
          "data": {
            "text/plain": [
              "<function matplotlib.pyplot.show>"
            ]
          },
          "metadata": {},
          "execution_count": 16
        },
        {
          "output_type": "display_data",
          "data": {
            "image/png": "[encoded data removed]",
            "text/plain": [
              "<Figure size 432x288 with 1 Axes>"
            ]
          },
          "metadata": {
            "needs_background": "light"
          }
        },
        {
          "output_type": "display_data",
          "data": {
            "text/plain": [
              "<Figure size 432x288 with 0 Axes>"
            ]
          },
          "metadata": {}
        }
      ]
    },
    {
      "cell_type": "code",
      "source": [
        "def test(X, y, index):\n",
        "  X[index] = X[index].reshape(-1,32,32,3)\n",
        "  plt.imshow(X[index])\n",
        "  print('Orignal label: ', classes[y[index]])\n",
        "  pred = model.predict(X[index])\n",
        "  print('Predicted label: ', classes[pred])"
      ],
      "metadata": {
        "id": "AqxZBQcrJW13"
      },
      "execution_count": 20,
      "outputs": []
    },
    {
      "cell_type": "code",
      "source": [
        "test(X_test, y_test, 5689)"
      ],
      "metadata": {
        "colab": {
          "base_uri": "https://localhost:8080/",
          "height": 837
        },
        "id": "WvlQZZtTKWKJ",
        "outputId": "8b6ac6c3-0f1d-423f-f6ef-16f06a7352b1"
      },
      "execution_count": 21,
      "outputs": [
        {
          "output_type": "stream",
          "name": "stdout",
          "text": [
            "Orignal label:  cat\n"
          ]
        },
        {
          "output_type": "error",
          "ename": "ValueError",
          "evalue": "ignored",
          "traceback": [
            "\u001b[0;31m---------------------------------------------------------------------------\u001b[0m",
            "\u001b[0;31mValueError\u001b[0m                                Traceback (most recent call last)",
            "\u001b[0;32m<ipython-input-21-e5931f44b723>\u001b[0m in \u001b[0;36m<module>\u001b[0;34m()\u001b[0m\n\u001b[0;32m----> 1\u001b[0;31m \u001b[0mtest\u001b[0m\u001b[0;34m(\u001b[0m\u001b[0mX_test\u001b[0m\u001b[0;34m,\u001b[0m \u001b[0my_test\u001b[0m\u001b[0;34m,\u001b[0m \u001b[0;36m5689\u001b[0m\u001b[0;34m)\u001b[0m\u001b[0;34m\u001b[0m\u001b[0;34m\u001b[0m\u001b[0m\n\u001b[0m",
            "\u001b[0;32m<ipython-input-20-1a84261f360d>\u001b[0m in \u001b[0;36mtest\u001b[0;34m(X, y, index)\u001b[0m\n\u001b[1;32m      3\u001b[0m   \u001b[0mplt\u001b[0m\u001b[0;34m.\u001b[0m\u001b[0mimshow\u001b[0m\u001b[0;34m(\u001b[0m\u001b[0mX\u001b[0m\u001b[0;34m[\u001b[0m\u001b[0mindex\u001b[0m\u001b[0;34m]\u001b[0m\u001b[0;34m)\u001b[0m\u001b[0;34m\u001b[0m\u001b[0;34m\u001b[0m\u001b[0m\n\u001b[1;32m      4\u001b[0m   \u001b[0mprint\u001b[0m\u001b[0;34m(\u001b[0m\u001b[0;34m'Orignal label: '\u001b[0m\u001b[0;34m,\u001b[0m \u001b[0mclasses\u001b[0m\u001b[0;34m[\u001b[0m\u001b[0my\u001b[0m\u001b[0;34m[\u001b[0m\u001b[0mindex\u001b[0m\u001b[0;34m]\u001b[0m\u001b[0;34m]\u001b[0m\u001b[0;34m)\u001b[0m\u001b[0;34m\u001b[0m\u001b[0;34m\u001b[0m\u001b[0m\n\u001b[0;32m----> 5\u001b[0;31m   \u001b[0mpred\u001b[0m \u001b[0;34m=\u001b[0m \u001b[0mmodel\u001b[0m\u001b[0;34m.\u001b[0m\u001b[0mpredict\u001b[0m\u001b[0;34m(\u001b[0m\u001b[0mX\u001b[0m\u001b[0;34m[\u001b[0m\u001b[0mindex\u001b[0m\u001b[0;34m]\u001b[0m\u001b[0;34m)\u001b[0m\u001b[0;34m\u001b[0m\u001b[0;34m\u001b[0m\u001b[0m\n\u001b[0m\u001b[1;32m      6\u001b[0m   \u001b[0mprint\u001b[0m\u001b[0;34m(\u001b[0m\u001b[0;34m'Predicted label: '\u001b[0m\u001b[0;34m,\u001b[0m \u001b[0mclasses\u001b[0m\u001b[0;34m[\u001b[0m\u001b[0mpred\u001b[0m\u001b[0;34m]\u001b[0m\u001b[0;34m)\u001b[0m\u001b[0;34m\u001b[0m\u001b[0;34m\u001b[0m\u001b[0m\n",
            "\u001b[0;32m/usr/local/lib/python3.7/dist-packages/keras/utils/traceback_utils.py\u001b[0m in \u001b[0;36merror_handler\u001b[0;34m(*args, **kwargs)\u001b[0m\n\u001b[1;32m     65\u001b[0m     \u001b[0;32mexcept\u001b[0m \u001b[0mException\u001b[0m \u001b[0;32mas\u001b[0m \u001b[0me\u001b[0m\u001b[0;34m:\u001b[0m  \u001b[0;31m# pylint: disable=broad-except\u001b[0m\u001b[0;34m\u001b[0m\u001b[0;34m\u001b[0m\u001b[0m\n\u001b[1;32m     66\u001b[0m       \u001b[0mfiltered_tb\u001b[0m \u001b[0;34m=\u001b[0m \u001b[0m_process_traceback_frames\u001b[0m\u001b[0;34m(\u001b[0m\u001b[0me\u001b[0m\u001b[0;34m.\u001b[0m\u001b[0m__traceback__\u001b[0m\u001b[0;34m)\u001b[0m\u001b[0;34m\u001b[0m\u001b[0;34m\u001b[0m\u001b[0m\n\u001b[0;32m---> 67\u001b[0;31m       \u001b[0;32mraise\u001b[0m \u001b[0me\u001b[0m\u001b[0;34m.\u001b[0m\u001b[0mwith_traceback\u001b[0m\u001b[0;34m(\u001b[0m\u001b[0mfiltered_tb\u001b[0m\u001b[0;34m)\u001b[0m \u001b[0;32mfrom\u001b[0m \u001b[0;32mNone\u001b[0m\u001b[0;34m\u001b[0m\u001b[0;34m\u001b[0m\u001b[0m\n\u001b[0m\u001b[1;32m     68\u001b[0m     \u001b[0;32mfinally\u001b[0m\u001b[0;34m:\u001b[0m\u001b[0;34m\u001b[0m\u001b[0;34m\u001b[0m\u001b[0m\n\u001b[1;32m     69\u001b[0m       \u001b[0;32mdel\u001b[0m \u001b[0mfiltered_tb\u001b[0m\u001b[0;34m\u001b[0m\u001b[0;34m\u001b[0m\u001b[0m\n",
            "\u001b[0;32m/usr/local/lib/python3.7/dist-packages/tensorflow/python/framework/func_graph.py\u001b[0m in \u001b[0;36mautograph_handler\u001b[0;34m(*args, **kwargs)\u001b[0m\n\u001b[1;32m   1127\u001b[0m           \u001b[0;32mexcept\u001b[0m \u001b[0mException\u001b[0m \u001b[0;32mas\u001b[0m \u001b[0me\u001b[0m\u001b[0;34m:\u001b[0m  \u001b[0;31m# pylint:disable=broad-except\u001b[0m\u001b[0;34m\u001b[0m\u001b[0;34m\u001b[0m\u001b[0m\n\u001b[1;32m   1128\u001b[0m             \u001b[0;32mif\u001b[0m \u001b[0mhasattr\u001b[0m\u001b[0;34m(\u001b[0m\u001b[0me\u001b[0m\u001b[0;34m,\u001b[0m \u001b[0;34m\"ag_error_metadata\"\u001b[0m\u001b[0;34m)\u001b[0m\u001b[0;34m:\u001b[0m\u001b[0;34m\u001b[0m\u001b[0;34m\u001b[0m\u001b[0m\n\u001b[0;32m-> 1129\u001b[0;31m               \u001b[0;32mraise\u001b[0m \u001b[0me\u001b[0m\u001b[0;34m.\u001b[0m\u001b[0mag_error_metadata\u001b[0m\u001b[0;34m.\u001b[0m\u001b[0mto_exception\u001b[0m\u001b[0;34m(\u001b[0m\u001b[0me\u001b[0m\u001b[0;34m)\u001b[0m\u001b[0;34m\u001b[0m\u001b[0;34m\u001b[0m\u001b[0m\n\u001b[0m\u001b[1;32m   1130\u001b[0m             \u001b[0;32melse\u001b[0m\u001b[0;34m:\u001b[0m\u001b[0;34m\u001b[0m\u001b[0;34m\u001b[0m\u001b[0m\n\u001b[1;32m   1131\u001b[0m               \u001b[0;32mraise\u001b[0m\u001b[0;34m\u001b[0m\u001b[0;34m\u001b[0m\u001b[0m\n",
            "\u001b[0;31mValueError\u001b[0m: in user code:\n\n    File \"/usr/local/lib/python3.7/dist-packages/keras/engine/training.py\", line 1621, in predict_function  *\n        return step_function(self, iterator)\n    File \"/usr/local/lib/python3.7/dist-packages/keras/engine/training.py\", line 1611, in step_function  **\n        outputs = model.distribute_strategy.run(run_step, args=(data,))\n    File \"/usr/local/lib/python3.7/dist-packages/keras/engine/training.py\", line 1604, in run_step  **\n        outputs = model.predict_step(data)\n    File \"/usr/local/lib/python3.7/dist-packages/keras/engine/training.py\", line 1572, in predict_step\n        return self(x, training=False)\n    File \"/usr/local/lib/python3.7/dist-packages/keras/utils/traceback_utils.py\", line 67, in error_handler\n        raise e.with_traceback(filtered_tb) from None\n    File \"/usr/local/lib/python3.7/dist-packages/keras/engine/input_spec.py\", line 263, in assert_input_compatibility\n        raise ValueError(f'Input {input_index} of layer \"{layer_name}\" is '\n\n    ValueError: Input 0 of layer \"sequential\" is incompatible with the layer: expected shape=(None, 32, 32, 3), found shape=(32, 32, 3)\n"
          ]
        },
        {
          "output_type": "display_data",
          "data": {
            "image/png": "[encoded data removed]",
            "text/plain": [
              "<Figure size 432x288 with 1 Axes>"
            ]
          },
          "metadata": {
            "needs_background": "light"
          }
        }
      ]
    },
    {
      "cell_type": "code",
      "source": [
        ""
      ],
      "metadata": {
        "id": "UQKQNVl9AH_V"
      },
      "execution_count": null,
      "outputs": []
    }
  ]
}