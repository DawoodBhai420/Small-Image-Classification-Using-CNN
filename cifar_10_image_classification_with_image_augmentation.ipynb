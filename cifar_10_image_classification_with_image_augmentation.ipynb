{
  "nbformat": 4,
  "nbformat_minor": 0,
  "metadata": {
    "colab": {
      "name": "cifar 10 image classification with image augmentation.ipynb",
      "provenance": [],
      "authorship_tag": "ABX9TyMAC35iLt7knZKhxlbdlqRy",
      "include_colab_link": true
    },
    "kernelspec": {
      "name": "python3",
      "display_name": "Python 3"
    },
    "language_info": {
      "name": "python"
    },
    "accelerator": "GPU"
  },
  "cells": [
    {
      "cell_type": "markdown",
      "metadata": {
        "id": "view-in-github",
        "colab_type": "text"
      },
      "source": [
        "<a href=\"https://colab.research.google.com/github/DawoodBhai420/Small-Image-Classification-Using-CNN/blob/main/cifar_10_image_classification_with_image_augmentation.ipynb\" target=\"_parent\"><img src=\"https://colab.research.google.com/assets/colab-badge.svg\" alt=\"Open In Colab\"/></a>"
      ]
    },
    {
      "cell_type": "code",
      "execution_count": 1,
      "metadata": {
        "id": "Ep1uH7tb-3FA"
      },
      "outputs": [],
      "source": [
        "import tensorflow as tf\n",
        "from tensorflow import keras\n",
        "import matplotlib.pyplot as plt\n",
        "import numpy as np"
      ]
    },
    {
      "cell_type": "code",
      "source": [
        "(X_train, y_train), (X_test,y_test) = keras.datasets.cifar10.load_data()"
      ],
      "metadata": {
        "colab": {
          "base_uri": "https://localhost:8080/"
        },
        "id": "z0kXrivF_YHY",
        "outputId": "e529f514-076e-49ff-ac56-3a42d4fca12a"
      },
      "execution_count": 2,
      "outputs": [
        {
          "output_type": "stream",
          "name": "stdout",
          "text": [
            "Downloading data from https://www.cs.toronto.edu/~kriz/cifar-10-python.tar.gz\n",
            "170500096/170498071 [==============================] - 3s 0us/step\n",
            "170508288/170498071 [==============================] - 3s 0us/step\n"
          ]
        }
      ]
    },
    {
      "cell_type": "code",
      "source": [
        "y_train = y_train.reshape(-1)\n",
        "y_test = y_test.reshape(-1)"
      ],
      "metadata": {
        "id": "29ZdS2n6_axb"
      },
      "execution_count": 3,
      "outputs": []
    },
    {
      "cell_type": "code",
      "source": [
        "classes = [\"airplane\",\"automobile\",\"bird\",\"cat\",\"deer\",\"dog\",\"frog\",\"horse\",\"ship\",\"truck\"]"
      ],
      "metadata": {
        "id": "ReWcTYsG_fMh"
      },
      "execution_count": 4,
      "outputs": []
    },
    {
      "cell_type": "code",
      "source": [
        "def plot_image(X, y, index):\n",
        "  plt.imshow(X[index])\n",
        "  print(classes[y[index]])"
      ],
      "metadata": {
        "id": "0ZJRpsaU_iJL"
      },
      "execution_count": 5,
      "outputs": []
    },
    {
      "cell_type": "code",
      "source": [
        "plot_image(X_train, y_train, 296)"
      ],
      "metadata": {
        "colab": {
          "base_uri": "https://localhost:8080/",
          "height": 283
        },
        "id": "aCIlvr14_kwO",
        "outputId": "1ae06732-5136-4ca1-9681-8c9cd4d1c388"
      },
      "execution_count": 6,
      "outputs": [
        {
          "output_type": "stream",
          "name": "stdout",
          "text": [
            "deer\n"
          ]
        },
        {
          "output_type": "display_data",
          "data": {
            "image/png": "[encoded data removed]",
            "text/plain": [
              "<Figure size 432x288 with 1 Axes>"
            ]
          },
          "metadata": {
            "needs_background": "light"
          }
        }
      ]
    },
    {
      "cell_type": "code",
      "source": [
        "from tensorflow.keras.preprocessing.image import ImageDataGenerator\n",
        "train_datagen = ImageDataGenerator(rescale=1./255,\n",
        "                                   rotation_range=40,\n",
        "                                   width_shift_range=.2,\n",
        "                                   height_shift_range=.2,\n",
        "                                   shear_range=.2,\n",
        "                                   zoom_range=.2,\n",
        "                                   horizontal_flip=True,\n",
        "                                   fill_mode='nearest')\n",
        "train_generator = train_datagen.flow(X_train, y_train)\n",
        "validation_datagen = ImageDataGenerator(rescale=1./255)\n",
        "validation_generator = validation_datagen.flow(X_test, y_test)"
      ],
      "metadata": {
        "id": "RjPg4eRd_rLV"
      },
      "execution_count": 7,
      "outputs": []
    },
    {
      "cell_type": "code",
      "source": [
        "model = keras.models.Sequential([\n",
        "                                 keras.layers.Conv2D(16, (3,3), activation='relu', input_shape=(32,32,3)),\n",
        "                                 keras.layers.MaxPooling2D(2,2),\n",
        "                                 keras.layers.Conv2D(32, (3,3), activation='relu'),\n",
        "                                 keras.layers.MaxPooling2D(2,2),\n",
        "                                 keras.layers.Conv2D(64, (3,3), activation='relu'),\n",
        "                                 keras.layers.MaxPooling2D(2,2),\n",
        "                                 keras.layers.Flatten(),\n",
        "                                 keras.layers.Dense(512, activation='relu'),\n",
        "                                 keras.layers.Dropout(0.2),\n",
        "                                 keras.layers.Dense(10, activation='softmax')\n",
        "])\n",
        "model.compile(optimizer=keras.optimizers.RMSprop(),\n",
        "              loss='sparse_categorical_crossentropy',\n",
        "              metrics=['accuracy'])"
      ],
      "metadata": {
        "id": "xAjl2OtlBCVj"
      },
      "execution_count": 8,
      "outputs": []
    },
    {
      "cell_type": "code",
      "source": [
        "his = model.fit(train_generator,\n",
        "                epochs=20,\n",
        "                validation_data=validation_generator,\n",
        "                verbose=1)"
      ],
      "metadata": {
        "colab": {
          "base_uri": "https://localhost:8080/"
        },
        "id": "CE4fG8khCGfN",
        "outputId": "3a73cdf6-a26d-4bbf-f79d-f3a984271da9"
      },
      "execution_count": 9,
      "outputs": [
        {
          "output_type": "stream",
          "name": "stdout",
          "text": [
            "Epoch 1/20\n",
            "1563/1563 [==============================] - 62s 32ms/step - loss: 1.8461 - accuracy: 0.3195 - val_loss: 1.7953 - val_accuracy: 0.3845\n",
            "Epoch 2/20\n",
            "1563/1563 [==============================] - 48s 31ms/step - loss: 1.6027 - accuracy: 0.4168 - val_loss: 1.2809 - val_accuracy: 0.5376\n",
            "Epoch 3/20\n",
            "1563/1563 [==============================] - 48s 31ms/step - loss: 1.5000 - accuracy: 0.4604 - val_loss: 1.2649 - val_accuracy: 0.5501\n",
            "Epoch 4/20\n",
            "1563/1563 [==============================] - 48s 31ms/step - loss: 1.4507 - accuracy: 0.4834 - val_loss: 1.3701 - val_accuracy: 0.5178\n",
            "Epoch 5/20\n",
            "1563/1563 [==============================] - 48s 30ms/step - loss: 1.4286 - accuracy: 0.4922 - val_loss: 1.3744 - val_accuracy: 0.5377\n",
            "Epoch 6/20\n",
            "1563/1563 [==============================] - 47s 30ms/step - loss: 1.4080 - accuracy: 0.5051 - val_loss: 1.1825 - val_accuracy: 0.5868\n",
            "Epoch 7/20\n",
            "1563/1563 [==============================] - 47s 30ms/step - loss: 1.4117 - accuracy: 0.5011 - val_loss: 1.3636 - val_accuracy: 0.5345\n",
            "Epoch 8/20\n",
            "1563/1563 [==============================] - 48s 30ms/step - loss: 1.4186 - accuracy: 0.4997 - val_loss: 1.2302 - val_accuracy: 0.5712\n",
            "Epoch 9/20\n",
            "1563/1563 [==============================] - 47s 30ms/step - loss: 1.4257 - accuracy: 0.5010 - val_loss: 1.2275 - val_accuracy: 0.5678\n",
            "Epoch 10/20\n",
            "1563/1563 [==============================] - 48s 30ms/step - loss: 1.4348 - accuracy: 0.4956 - val_loss: 1.2580 - val_accuracy: 0.5598\n",
            "Epoch 11/20\n",
            "1563/1563 [==============================] - 47s 30ms/step - loss: 1.4353 - accuracy: 0.5013 - val_loss: 1.2444 - val_accuracy: 0.5798\n",
            "Epoch 12/20\n",
            "1563/1563 [==============================] - 48s 30ms/step - loss: 1.4350 - accuracy: 0.4990 - val_loss: 1.1502 - val_accuracy: 0.6150\n",
            "Epoch 13/20\n",
            "1563/1563 [==============================] - 47s 30ms/step - loss: 1.4572 - accuracy: 0.4896 - val_loss: 1.4240 - val_accuracy: 0.4956\n",
            "Epoch 14/20\n",
            "1563/1563 [==============================] - 49s 32ms/step - loss: 1.4597 - accuracy: 0.4900 - val_loss: 1.2492 - val_accuracy: 0.5524\n",
            "Epoch 15/20\n",
            "1563/1563 [==============================] - 50s 32ms/step - loss: 1.4653 - accuracy: 0.4914 - val_loss: 1.3354 - val_accuracy: 0.5373\n",
            "Epoch 16/20\n",
            "1563/1563 [==============================] - 50s 32ms/step - loss: 1.4740 - accuracy: 0.4883 - val_loss: 1.2015 - val_accuracy: 0.5919\n",
            "Epoch 17/20\n",
            "1563/1563 [==============================] - 48s 31ms/step - loss: 1.4901 - accuracy: 0.4836 - val_loss: 1.2873 - val_accuracy: 0.5585\n",
            "Epoch 18/20\n",
            "1563/1563 [==============================] - 47s 30ms/step - loss: 1.4914 - accuracy: 0.4845 - val_loss: 1.4227 - val_accuracy: 0.5394\n",
            "Epoch 19/20\n",
            "1563/1563 [==============================] - 49s 32ms/step - loss: 1.4985 - accuracy: 0.4805 - val_loss: 1.3989 - val_accuracy: 0.5450\n",
            "Epoch 20/20\n",
            "1563/1563 [==============================] - 49s 31ms/step - loss: 1.5006 - accuracy: 0.4839 - val_loss: 1.3324 - val_accuracy: 0.5285\n"
          ]
        }
      ]
    },
    {
      "cell_type": "code",
      "source": [
        ""
      ],
      "metadata": {
        "id": "BwhFqVTLCl6v"
      },
      "execution_count": null,
      "outputs": []
    }
  ]
}